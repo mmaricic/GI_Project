{
 "cells": [
  {
   "cell_type": "code",
   "execution_count": 2,
   "metadata": {},
   "outputs": [],
   "source": [
    "%run SequencingSimulator.ipynb"
   ]
  },
  {
   "cell_type": "code",
   "execution_count": 3,
   "metadata": {},
   "outputs": [],
   "source": [
    "#test for getSigma function\n",
    "\n",
    "assert getSigma(35) == 1\n",
    "assert getSigma(115) == 1\n",
    "assert getSigma(45) == 2\n",
    "assert getSigma(105) == 2\n",
    "assert getSigma(65) == 5\n",
    "assert getSigma(95) == 5\n",
    "assert getSigma(75) == 10"
   ]
  },
  {
   "cell_type": "code",
   "execution_count": 33,
   "metadata": {},
   "outputs": [
    {
     "name": "stdout",
     "output_type": "stream",
     "text": [
      "68.91771110299452\n",
      "50.38138511946651\n"
     ]
    }
   ],
   "source": [
    "#test for generateQuality function\n",
    "\n",
    "def calculateSum(readFile, readLength, quality, fileContent):\n",
    "    sum = 0\n",
    "    for ch in fileContent:\n",
    "        sum += ord(ch)\n",
    "    sum = (int)(sum/readLength)\n",
    "    return sum\n",
    "\n",
    "def calculateLengthOfFileContent(readFile):\n",
    "    fileContent = readFile.read().rstrip('\\n')\n",
    "    return fileContent\n",
    "    \n",
    "def generateQualityTest(quality, readLength, readFile):\n",
    "    generateQuality(quality, readLength, readFile)\n",
    "    readFile.flush()\n",
    "    readFile.seek(0)\n",
    "    fileContent = calculateLengthOfFileContent(readFile)\n",
    "    assert len(fileContent) == readLength\n",
    "    sum = calculateSum(readFile, readLength, quality, fileContent)\n",
    "    assert sum <= quality + 2\n",
    "    assert sum >= quality - 2\n",
    "    \n",
    "readFile = open(\"Read1.txt\",\"w+\")\n",
    "\n",
    "readLength = 100\n",
    "quality = 70\n",
    "generateQualityTest(quality, readLength, readFile)\n",
    "\n",
    "readFile.seek(0)\n",
    "\n",
    "readLength = 150\n",
    "quality = 50\n",
    "generateQualityTest(quality, readLength, readFile)"
   ]
  },
  {
   "cell_type": "code",
   "execution_count": null,
   "metadata": {},
   "outputs": [],
   "source": [
    "#test for generateReads function"
   ]
  },
  {
   "cell_type": "code",
   "execution_count": null,
   "metadata": {},
   "outputs": [],
   "source": [
    "#test for insertMutations function"
   ]
  },
  {
   "cell_type": "code",
   "execution_count": null,
   "metadata": {},
   "outputs": [],
   "source": [
    "#test for createPairEndPairs function"
   ]
  }
 ],
 "metadata": {
  "kernelspec": {
   "display_name": "Python 3",
   "language": "python",
   "name": "python3"
  },
  "language_info": {
   "codemirror_mode": {
    "name": "ipython",
    "version": 3
   },
   "file_extension": ".py",
   "mimetype": "text/x-python",
   "name": "python",
   "nbconvert_exporter": "python",
   "pygments_lexer": "ipython3",
   "version": "3.7.2"
  }
 },
 "nbformat": 4,
 "nbformat_minor": 2
}
